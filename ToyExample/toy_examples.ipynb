{
 "cells": [
  {
   "cell_type": "code",
   "execution_count": null,
   "metadata": {},
   "outputs": [],
   "source": [
    "import numpy as np\n",
    "import matplotlib.pyplot as plt\n",
    "import sys\n",
    "sys.path.insert(1, os.path.join(sys.path[0], '..'))\n",
    "sys.path.insert(1, os.path.join(sys.path[0], '../..'))\n",
    "from ToyExample.generate_data import generate_members,generate_params, generate_centers, linear, triangle, cosine\n",
    "from PersistentGraph_KMeans.persistentgraph import *\n",
    "from PersistentGraph_KMeans.plots import *\n",
    "from PersistentGraph_KMeans.analysis import *"
   ]
  },
  {
   "cell_type": "code",
   "execution_count": null,
   "metadata": {},
   "outputs": [],
   "source": [
    "def compare(members, weights=None, fig_title=\"\", filename=\"\", pathfig=\"\"):\n",
    "    plt.figure(figsize=(15,10))\n",
    "    \n",
    "    print(\" ----------- MEMBERS ----------- \")\n",
    "    for m in members:\n",
    "        plt.plot(m)\n",
    "    plt.show()\n",
    "    print(\" ----------- GRAPH ----------- \")\n",
    "    # g01 = PersistentGraph(members=members)\n",
    "    # g01.construct_graph(verbose=True)\n",
    "    # plot_as_graph(g01, show_vertices=True)\n",
    "    #plt.show()\n",
    "    if weights is not None:\n",
    "        print(\" =========== WITH WEIGHTS =========== \")\n",
    "        print(\" ----------- MEMBERS ----------- \")\n",
    "        plt.figure(figsize=(15,10))\n",
    "        for m in members:\n",
    "            plt.plot(m/weights)\n",
    "        plt.show()\n",
    "        print(\" ----------- GRAPH ----------- \")\n",
    "        # g02 = PersistentGraph(members=members, weights=weights)\n",
    "        # g02.construct_graph()\n",
    "        # plot_as_graph(g02, show_vertices=False)\n",
    "        plt.show()"
   ]
  },
  {
   "cell_type": "code",
   "execution_count": null,
   "metadata": {
    "scrolled": false,
    "tags": []
   },
   "outputs": [],
   "source": [
    "T = 31\n",
    "N = 30\n",
    "\n",
    "l_const = range(0,10,5)\n",
    "l_peak_value = range(0,10,1)\n",
    "l_std_min = np.arange(10)/10\n",
    "l_std_max= np.arange(2,10)/2\n",
    "\n",
    "\n",
    "nb_clusters = 2\n",
    "std_min = 0.2\n",
    "std_max = 5\n",
    "xvalues = np.arange(T)\n",
    "for std_min in l_std_min:\n",
    "    for std_max in l_std_max:\n",
    "        for const in l_const:\n",
    "            for peak_value in l_peak_value:\n",
    "                params_kw = {'ymax':std_max,'ymin':std_min}\n",
    "                weights = linear(xvalues, ymin=std_min, ymax=std_max)\n",
    "                params = generate_params(names = 'scale', func_kw=params_kw)\n",
    "                params_kw = [{'const' : -const, 'peak_value' : -peak_value}, {'const' : const, 'peak_value' : peak_value}]\n",
    "                centers = generate_centers(T=T, nb_clusters=nb_clusters, func=triangle, func_kw=params_kw)\n",
    "                members = generate_members(N=N, T=T, nb_clusters=nb_clusters, distrib_params=params, cluster_centers = centers)\n",
    "                compare(members=members, weights=weights, pathfig=\"\")"
   ]
  },
  {
   "cell_type": "code",
   "execution_count": null,
   "metadata": {},
   "outputs": [],
   "source": [
    "nb_clusters = 2\n",
    "std_min = 0.2\n",
    "std_max = 2\n",
    "xvalues = np.arange(T)\n",
    "params_kw = {'ymax':std_max,'ymin':std_min}\n",
    "weights = linear(xvalues, ymin=std_min, ymax=std_max)\n",
    "cluster_ratios = [0.3, 0.7]\n",
    "\n",
    "params = generate_params(names = 'scale', func_kw=params_kw)\n",
    "centers = generate_centers(nb_clusters=nb_clusters)\n",
    "\n",
    "members = generate_members(\n",
    "    N=50,\n",
    "    nb_clusters=nb_clusters,\n",
    "    cluster_ratios=cluster_ratios,\n",
    "    distrib_params=params\n",
    ")\n",
    "\n",
    "compare(members=members, weights=weights)"
   ]
  },
  {
   "cell_type": "code",
   "execution_count": null,
   "metadata": {},
   "outputs": [],
   "source": []
  }
 ],
 "metadata": {
  "kernelspec": {
   "display_name": "Python 3.7.7 64-bit",
   "language": "python",
   "name": "python37764bit7cabdad2ea524440a50be8c5e214afe7"
  },
  "language_info": {
   "codemirror_mode": {
    "name": "ipython",
    "version": 3
   },
   "file_extension": ".py",
   "mimetype": "text/x-python",
   "name": "python",
   "nbconvert_exporter": "python",
   "pygments_lexer": "ipython3",
   "version": "3.7.9"
  }
 },
 "nbformat": 4,
 "nbformat_minor": 4
}