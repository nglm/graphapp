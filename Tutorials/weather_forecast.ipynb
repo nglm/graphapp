{
 "cells": [
  {
   "cell_type": "markdown",
   "metadata": {},
   "source": [
    "Source: Wikipedia <a name=\"ref_wiki\"></a>\n",
    "\n",
    "  - `[But_WP]` [Butterfly effect](https://en.wikipedia.org/wiki/Butterfly_effect)\n",
    "  - `[Att_WP]` [Attractor](https://en.wikipedia.org/wiki/Attractor)\n",
    "  - `[Lor_WP]` [Lorenz system](https://en.wikipedia.org/wiki/Lorenz_system)\n",
    "  - `[Atm_WP]` [Atmospheric_model](https://en.wikipedia.org/wiki/Atmospheric_model)\n",
    "  - `[Num_WP]` [Numerical weather prediction](https://en.wikipedia.org/wiki/Numerical_weather_prediction)"
   ]
  },
  {
   "cell_type": "markdown",
   "metadata": {},
   "source": [
    "## ---- The idea of numerical weather forecast ----\n",
    "\n",
    "The atmosphere is a fluid. As such, the idea of numerical weather prediction is to sample the state of the fluid at a given time and use the equations of fluid dynamics and thermodynamics to estimate the state of the fluid at some time in the future. `[Atm_WP]`"
   ]
  },
  {
   "cell_type": "markdown",
   "metadata": {},
   "source": [
    "## ---- History of numerical weather prediction ----\n",
    "\n",
    "The history of numerical weather prediction began in the 1920s but it was not until the advent of the computer and computer simulation that computation time was reduced to less than the forecast period itself. ENIAC created the first computer forecasts in 1950 `[Atm_WP]`\n",
    "\n",
    "Even with the increasing power of supercomputers, the forecast skill of numerical weather models only extends to about two weeks into the future, since the density and quality of observations—together with the chaotic nature of the partial differential equations used to calculate the forecast—introduce errors which double every five days. `[Atm_WP]`\n"
   ]
  },
  {
   "cell_type": "markdown",
   "metadata": {},
   "source": [
    "## ---- Post processing technique: Model output statistics ----\n",
    "\n",
    "Factors affecting the accuracy of numerical predictions include the density and quality of observations used as input to the forecasts, along with deficiencies in the numerical models themselves. Post-processing techniques such as model output statistics (MOS) have been developed to improve the handling of errors in numerical predictions. (See `[Num_WP]`)"
   ]
  }
 ],
 "metadata": {
  "language_info": {
   "codemirror_mode": {
    "name": "ipython",
    "version": 3
   },
   "file_extension": ".py",
   "mimetype": "text/x-python",
   "name": "python",
   "nbconvert_exporter": "python",
   "pygments_lexer": "ipython3",
   "version": 3
  },
  "orig_nbformat": 2
 },
 "nbformat": 4,
 "nbformat_minor": 2
}