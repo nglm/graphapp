{
 "cells": [
  {
   "cell_type": "markdown",
   "metadata": {},
   "source": [
    "Sources:\n",
    "\n",
    "- `[WF_EO]` [Earth Observatory](https://earthobservatory.nasa.gov/features/WxForecasting)\n",
    "- `[His_Bri]` [Britannica](https://www.britannica.com/science/weather-forecasting/History-of-weather-forecasting)\n",
    "\n",
    "- Wikipedia\n",
    "\n",
    "  - `[Gas_WP]` [Gas laws](https://en.wikipedia.org/wiki/Gas_laws)\n",
    "  - `[Ide_WP]` [Ideal gas law](https://en.wikipedia.org/wiki/Ideal_gas_law)"
   ]
  },
  {
   "cell_type": "markdown",
   "metadata": {},
   "source": [
    "- 15th Century: 1st hygrometer (in western civilizations) by Nicholas Cusa. Measures the humidity of air `[WF_EO]`\n",
    "- 1592: 1st thermometer by Galileo  `[WF_EO]`\n",
    "- 1643: 1st Barometer by Evangelista Torricelli. Measures atmospheric pressure. `[WF_EO]`\n",
    "- ~1840: Telegraph Allows the routine transmission of weather observations to and from observers and compilers. `[WF_EO]`\n",
    "- 1920: Radiosonde. Monitors weather at high altitudes `[WF_EO]`\n"
   ]
  }
 ],
 "metadata": {
  "language_info": {
   "codemirror_mode": {
    "name": "ipython",
    "version": 3
   },
   "file_extension": ".py",
   "mimetype": "text/x-python",
   "name": "python",
   "nbconvert_exporter": "python",
   "pygments_lexer": "ipython3",
   "version": 3
  },
  "orig_nbformat": 2
 },
 "nbformat": 4,
 "nbformat_minor": 2
}