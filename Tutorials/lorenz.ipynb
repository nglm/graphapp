{
 "cells": [
  {
   "cell_type": "code",
   "execution_count": null,
   "metadata": {},
   "outputs": [],
   "source": [
    "import numpy as np\n",
    "import matplotlib.pyplot as plt\n",
    "from scipy.integrate import odeint\n",
    "from mpl_toolkits.mplot3d import Axes3D"
   ]
  },
  {
   "cell_type": "markdown",
   "metadata": {},
   "source": [
    "Sources:\n",
    "\n",
    "- Wikipedia\n",
    "\n",
    "  - `[Lor_WP]` [Lorenz sytem](https://en.wikipedia.org/wiki/Lorenz_system)"
   ]
  },
  {
   "cell_type": "markdown",
   "metadata": {},
   "source": [
    "## ---- Atmospheric convection ----"
   ]
  },
  {
   "cell_type": "markdown",
   "metadata": {},
   "source": [
    "## ---- Lorenz system ----\n",
    "\n",
    "(See `[Lor_WP]`)\n",
    "\n",
    "**Definition**\n",
    "\n",
    "In 1963, Edward Lorenz developed a simplified mathematical model for atmospheric convection. The model is a system of three ordinary differential equations now known as the Lorenz equations:\n",
    "\n",
    "$$\n",
    "\\frac{dx}{dt} = \\sigma(y-x)\\\\\n",
    "\\frac{dy}{dt} = x(\\rho-z) - y\\\\\n",
    "\\frac{dz}{dt} = xy - \\beta z\n",
    "$$\n",
    "\n",
    "\n",
    "\n",
    "The equations relate the properties of a two-dimensional fluid layer uniformly warmed from below and cooled from above, with:\n",
    "\n",
    "- $x$ is proportional to the rate of convection, \n",
    "- $y$ is proportionalto the horizontal temperature variation\n",
    "- $z$ is proportional to the vertical temperature variation.\n",
    "- The constants $\\sigma$, $\\rho$ , $\\beta$ are system parameters proportional to the Prandtl number, Rayleigh number, and certain physical dimensions of the layer itself\n",
    "\n",
    "**Properties**\n",
    "\n",
    "For generic values of $\\sigma$, $\\rho$ , $\\beta$, the Lorenz system is \n",
    "\n",
    "- Nonlinear\n",
    "- Non-periodic\n",
    "- Three-dimensional\n",
    "- Seterministic\n",
    "\n",
    "With the following constants (and nearby values) $\\sigma=10, \\beta=8/3, \\rho=28$, the Lorenz is in addition:\n",
    "\n",
    "- Chaotic\n",
    "- Almost all initial points will tend to an invariant set – the Lorenz attractor – a strange attractor with 3 equilibra"
   ]
  },
  {
   "cell_type": "code",
   "execution_count": null,
   "metadata": {},
   "outputs": [],
   "source": [
    "\n",
    "\n",
    "rho = 28.0\n",
    "sigma = 10.0\n",
    "beta = 8.0 / 3.0\n",
    "\n",
    "def lorenz(state, t):  # Param t is required by odeint\n",
    "    x, y, z = state    # Unpack the state vector\n",
    "    return sigma * (y - x), x * (rho - z) - y, x * y - beta * z  # Derivatives\n",
    "\n",
    "t = np.arange(0.0, 40.0, 0.01) # A sequence of time points for which to solve for state"
   ]
  },
  {
   "cell_type": "markdown",
   "metadata": {},
   "source": [
    "### ---- Phase space ----\n",
    "\n",
    "Phase space plots can be used to show regions of stability."
   ]
  },
  {
   "cell_type": "code",
   "execution_count": null,
   "metadata": {},
   "outputs": [],
   "source": [
    "# Numericaly solve the lorenz system given state0 as initial contidion\n",
    "state0 = [1.0, 1.0, 1.0]      \n",
    "states = odeint(lorenz, state0, t)  \n",
    "\n",
    "# Phase space: type of plots used to \n",
    "fig = plt.figure()\n",
    "ax = fig.gca(projection='3d')\n",
    "ax.plot(states[:, 0], states[:, 1], states[:, 2])\n",
    "plt.draw()\n",
    "plt.show()"
   ]
  }
 ],
 "metadata": {
  "kernelspec": {
   "display_name": "Python 3",
   "language": "python",
   "name": "python3"
  },
  "language_info": {
   "codemirror_mode": {
    "name": "ipython",
    "version": 3
   },
   "file_extension": ".py",
   "mimetype": "text/x-python",
   "name": "python",
   "nbconvert_exporter": "python",
   "pygments_lexer": "ipython3",
   "version": "3.7.7-final"
  }
 },
 "nbformat": 4,
 "nbformat_minor": 2
}