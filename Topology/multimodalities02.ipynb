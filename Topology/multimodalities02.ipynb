{
 "nbformat": 4,
 "nbformat_minor": 2,
 "metadata": {
  "language_info": {
   "name": "python",
   "codemirror_mode": {
    "name": "ipython",
    "version": 3
   },
   "version": "3.7.4-final"
  },
  "orig_nbformat": 2,
  "file_extension": ".py",
  "mimetype": "text/x-python",
  "name": "python",
  "npconvert_exporter": "python",
  "pygments_lexer": "ipython3",
  "version": 3,
  "kernelspec": {
   "name": "python3",
   "display_name": "Python 3"
  }
 },
 "cells": [
  {
   "cell_type": "code",
   "execution_count": null,
   "metadata": {},
   "outputs": [],
   "source": [
    "import sys\n",
    "import os\n",
    "from os import listdir, makedirs\n",
    "import numpy as np\n",
    "import matplotlib.pyplot as plt\n",
    "\n",
    "sys.path.append(\"/home/natacha/Documents/Work/\")  # to import galib\n",
    "sys.path.insert(1, os.path.join(sys.path[0], '../..'))  #to use TopEns submodules\n",
    "\n",
    "from TopEns.DataAnalysis.statistics import extract_variables, standardize\n",
    "from galib.tools.plt import from_list_to_subplots, add_labels_to_legend, set_fonts\n",
    "from galib.tools.stats import gauss_mixture, gauss_modes_in_time_series\n",
    "from galib.tools.lists import flatten, get_indices_element\n",
    "from netCDF4 import Dataset"
   ]
  },
  {
   "cell_type": "code",
   "execution_count": null,
   "metadata": {},
   "outputs": [],
   "source": [
    "nvalues = 30\n",
    "lines_init = np.ones((3,nvalues))\n",
    "up = np.array([x for x in range(1,6)])\n",
    "down = np.array([5,4,3,2,1])\n",
    "\n",
    "kwargs = {\n",
    "    \"marker\" : \"o\",\n",
    "    \"figsize\" : (10,6),\n",
    "}\n",
    "\n",
    "start = [2,5,19]\n",
    "mid = [s + 5 for s in start]\n",
    "end = [m + 5 for m in mid]\n",
    "lines = np.ones_like(lines_init)\n",
    "for i in range(3):\n",
    "    line = lines_init[i,:]\n",
    "    line[start[i]:mid[i]] = up\n",
    "    line[mid[i]:end[i]] = down\n",
    "    lines[i] = line[:]\n",
    "\n",
    "from_list_to_subplots(\n",
    "    list_yvalues=lines,\n",
    "    **kwargs\n",
    ")"
   ]
  },
  {
   "cell_type": "code",
   "execution_count": null,
   "metadata": {},
   "outputs": [],
   "source": [
    "lines = np.ones_like(lines_init)\n",
    "shift = [0, 1, 6]\n",
    "for i in range(3):\n",
    "    lines[i] += shift[i]\n",
    "\n",
    "from_list_to_subplots(\n",
    "    list_yvalues=lines,\n",
    "    **kwargs\n",
    ")"
   ]
  },
  {
   "cell_type": "code",
   "execution_count": null,
   "metadata": {},
   "outputs": [],
   "source": [
    "xvalues = np.arange(nvalues)\n",
    "lines = np.ones_like(lines_init)\n",
    "slopes = [0.05, 1/12, 1/5]\n",
    "for i in range(3):\n",
    "    lines[i] = xvalues*slopes[i]\n",
    "\n",
    "from_list_to_subplots(\n",
    "    list_yvalues=lines,\n",
    "    **kwargs\n",
    ")"
   ]
  },
  {
   "cell_type": "code",
   "execution_count": null,
   "metadata": {},
   "outputs": [],
   "source": [
    "nvalues = 3\n",
    "lines = np.array([\n",
    "    [1, 1, 1],\n",
    "    [2, 1, 0],\n",
    "    [1/3, 1/3, 1/3]\n",
    "])\n",
    "\n",
    "from_list_to_subplots(\n",
    "    list_yvalues=lines,\n",
    "    **kwargs\n",
    ")\n",
    ""
   ]
  }
 ]
}